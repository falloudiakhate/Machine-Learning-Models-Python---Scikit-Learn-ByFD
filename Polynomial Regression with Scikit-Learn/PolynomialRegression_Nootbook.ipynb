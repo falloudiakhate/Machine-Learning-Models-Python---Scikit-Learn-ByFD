{
 "cells": [
  {
   "cell_type": "markdown",
   "metadata": {},
   "source": [
    "<h1 style = \"text-align : center\"> POLYNOMIAL REGRESSION WITH SCIKITLEARN @ByFD</h1>"
   ]
  },
  {
   "cell_type": "code",
   "execution_count": 44,
   "metadata": {},
   "outputs": [],
   "source": [
    "import numpy as np\n",
    "from sklearn.preprocessing import PolynomialFeatures\n",
    "from sklearn.linear_model import LinearRegression\n",
    "import matplotlib.pyplot as plt"
   ]
  },
  {
   "cell_type": "code",
   "execution_count": 74,
   "metadata": {},
   "outputs": [],
   "source": [
    "X = 6 * np.random.rand(100, 1) - 3"
   ]
  },
  {
   "cell_type": "code",
   "execution_count": 77,
   "metadata": {},
   "outputs": [],
   "source": [
    "Y = 2 * X**2 + X + 2 + np.random.randn(100, 1)"
   ]
  },
  {
   "cell_type": "code",
   "execution_count": 78,
   "metadata": {},
   "outputs": [
    {
     "data": {
      "image/png": "[encoded data removed]",
      "text/plain": [
       "<Figure size 432x288 with 1 Axes>"
      ]
     },
     "metadata": {
      "needs_background": "light"
     },
     "output_type": "display_data"
    }
   ],
   "source": [
    "plt.plot(X, Y, \"ro\")\n",
    "plt.show()"
   ]
  },
  {
   "cell_type": "code",
   "execution_count": 107,
   "metadata": {},
   "outputs": [],
   "source": [
    "poly = PolynomialFeatures(degree = 2, include_bias=False)"
   ]
  },
  {
   "cell_type": "code",
   "execution_count": 108,
   "metadata": {},
   "outputs": [],
   "source": [
    "X_poly = poly.fit_transform(X)"
   ]
  },
  {
   "cell_type": "code",
   "execution_count": 109,
   "metadata": {},
   "outputs": [],
   "source": [
    "lin_reg = LinearRegression()"
   ]
  },
  {
   "cell_type": "code",
   "execution_count": 110,
   "metadata": {},
   "outputs": [
    {
     "data": {
      "text/plain": [
       "LinearRegression(copy_X=True, fit_intercept=True, n_jobs=None,\n",
       "         normalize=False)"
      ]
     },
     "execution_count": 110,
     "metadata": {},
     "output_type": "execute_result"
    }
   ],
   "source": [
    "lin_reg.fit(X_poly, Y)"
   ]
  },
  {
   "cell_type": "code",
   "execution_count": 111,
   "metadata": {},
   "outputs": [
    {
     "data": {
      "text/plain": [
       "array([1.92140026])"
      ]
     },
     "execution_count": 111,
     "metadata": {},
     "output_type": "execute_result"
    }
   ],
   "source": [
    "lin_reg.intercept_"
   ]
  },
  {
   "cell_type": "code",
   "execution_count": 112,
   "metadata": {},
   "outputs": [
    {
     "data": {
      "text/plain": [
       "array([[0.92383299, 2.02154996]])"
      ]
     },
     "execution_count": 112,
     "metadata": {},
     "output_type": "execute_result"
    }
   ],
   "source": [
    "lin_reg.coef_"
   ]
  },
  {
   "cell_type": "code",
   "execution_count": 113,
   "metadata": {},
   "outputs": [
    {
     "data": {
      "image/png": "[encoded data removed]",
      "text/plain": [
       "<Figure size 432x288 with 1 Axes>"
      ]
     },
     "metadata": {
      "needs_background": "light"
     },
     "output_type": "display_data"
    }
   ],
   "source": [
    "plt.plot(X, Y, \"bo\")\n",
    "X_new = np.linspace(-3, 3, 100)\n",
    "Y_predict = lin_reg.coef_.item(1) * X_new**2 + lin_reg.coef_.item(0) * X_new + lin_reg.intercept_\n",
    "plt.plot(Z, Y_predict, \"red\")\n",
    "plt.show()"
   ]
  },
  {
   "cell_type": "code",
   "execution_count": 99,
   "metadata": {},
   "outputs": [
    {
     "data": {
      "text/plain": [
       "0.9657255065147718"
      ]
     },
     "execution_count": 99,
     "metadata": {},
     "output_type": "execute_result"
    }
   ],
   "source": [
    "lin_reg.score(X_poly, Y)"
   ]
  },
  {
   "cell_type": "code",
   "execution_count": 117,
   "metadata": {},
   "outputs": [
    {
     "data": {
      "text/plain": [
       "array([[13.35073814],\n",
       "       [ 3.37597109],\n",
       "       [15.51167411],\n",
       "       [ 4.50953451],\n",
       "       [ 7.22334682],\n",
       "       [ 4.37707877],\n",
       "       [ 7.96927281],\n",
       "       [16.14382545],\n",
       "       [19.02977507],\n",
       "       [16.91522061],\n",
       "       [12.96705371],\n",
       "       [12.68916294],\n",
       "       [ 3.19945444],\n",
       "       [ 6.26200511],\n",
       "       [ 1.82217196],\n",
       "       [ 7.88709421],\n",
       "       [ 2.10821512],\n",
       "       [12.31311992],\n",
       "       [ 8.44986986],\n",
       "       [11.84670294],\n",
       "       [ 2.5032476 ],\n",
       "       [ 7.59086322],\n",
       "       [17.96968519],\n",
       "       [14.24861065],\n",
       "       [ 4.21947465],\n",
       "       [ 5.07043756],\n",
       "       [ 1.84886202],\n",
       "       [ 6.7571388 ],\n",
       "       [10.00843595],\n",
       "       [ 9.62846289],\n",
       "       [ 7.65320881],\n",
       "       [11.78143401],\n",
       "       [ 1.81586569],\n",
       "       [ 5.98126481],\n",
       "       [ 2.29491785],\n",
       "       [ 1.86056223],\n",
       "       [ 6.65733419],\n",
       "       [ 7.26496202],\n",
       "       [ 5.60765518],\n",
       "       [19.79974774],\n",
       "       [ 6.06155665],\n",
       "       [ 3.21289817],\n",
       "       [19.08957966],\n",
       "       [ 8.89602506],\n",
       "       [13.75650768],\n",
       "       [ 7.19763824],\n",
       "       [ 5.08079048],\n",
       "       [ 6.45354691],\n",
       "       [16.09608984],\n",
       "       [16.35459197],\n",
       "       [14.22048471],\n",
       "       [ 2.10444467],\n",
       "       [ 2.51518778],\n",
       "       [ 5.09743872],\n",
       "       [19.67612511],\n",
       "       [ 4.30769574],\n",
       "       [22.07101846],\n",
       "       [11.5904022 ],\n",
       "       [ 1.90647396],\n",
       "       [13.2864829 ],\n",
       "       [ 2.99721733],\n",
       "       [ 6.7429471 ],\n",
       "       [ 5.63946286],\n",
       "       [ 1.98434464],\n",
       "       [ 2.58275334],\n",
       "       [ 1.92788978],\n",
       "       [ 1.99322112],\n",
       "       [ 8.08330857],\n",
       "       [ 5.66564025],\n",
       "       [ 5.02502901],\n",
       "       [13.04692418],\n",
       "       [ 2.31882318],\n",
       "       [ 1.96903322],\n",
       "       [ 2.32883589],\n",
       "       [ 1.83060906],\n",
       "       [ 4.82666577],\n",
       "       [ 1.97489683],\n",
       "       [ 8.2613655 ],\n",
       "       [ 3.81144253],\n",
       "       [ 5.38504669],\n",
       "       [ 9.97186676],\n",
       "       [ 4.48476845],\n",
       "       [18.27256614],\n",
       "       [ 8.41811136],\n",
       "       [ 4.4140761 ],\n",
       "       [12.53684541],\n",
       "       [ 1.90980863],\n",
       "       [16.89889058],\n",
       "       [ 6.14477437],\n",
       "       [11.00514626],\n",
       "       [13.97833964],\n",
       "       [ 2.17023451],\n",
       "       [13.01079899],\n",
       "       [ 2.32193335],\n",
       "       [ 1.94770159],\n",
       "       [11.71930456],\n",
       "       [ 6.02156973],\n",
       "       [21.27473815],\n",
       "       [ 6.52764433],\n",
       "       [ 1.86799014]])"
      ]
     },
     "execution_count": 117,
     "metadata": {},
     "output_type": "execute_result"
    }
   ],
   "source": [
    "lin_reg.predict(X_poly)"
   ]
  },
  {
   "cell_type": "code",
   "execution_count": null,
   "metadata": {},
   "outputs": [],
   "source": []
  }
 ],
 "metadata": {
  "kernelspec": {
   "display_name": "Python 3",
   "language": "python",
   "name": "python3"
  },
  "language_info": {
   "codemirror_mode": {
    "name": "ipython",
    "version": 3
   },
   "file_extension": ".py",
   "mimetype": "text/x-python",
   "name": "python",
   "nbconvert_exporter": "python",
   "pygments_lexer": "ipython3",
   "version": "3.7.1"
  }
 },
 "nbformat": 4,
 "nbformat_minor": 2
}
